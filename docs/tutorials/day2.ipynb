{
 "cells": [
  {
   "cell_type": "markdown",
   "metadata": {},
   "source": [
    "# Day 2: Password Philosophy\n",
    "\n",
    "## Problem\n",
    "<div class=\"admonition note\">\n",
    "<p class=\"admonition-title\">Note</p>\n",
    "<br>Your flight departs in a few days from the coastal airport; the easiest way down to the coast from here is via toboggan.<br>\n",
    "\n",
    "The shopkeeper at the North Pole Toboggan Rental Shop is having a bad day. \"Something's wrong with our computers; we can't log in!\" You ask if you can take a look.<br>\n",
    "\n",
    "Their password database seems to be a little corrupted: some of the passwords wouldn't have been allowed by the Official Toboggan Corporate Policy that was in effect when they were chosen.<br>\n",
    "\n",
    "To try to debug the problem, they have created a list (your puzzle input) of passwords (according to the corrupted database) and the corporate policy when that password was set.<br>\n",
    "\n",
    "For example, suppose you have the following list:\n",
    "```\n",
    "1-3 a: abcde\n",
    "1-3 b: cdefg\n",
    "2-9 c: ccccccccc\n",
    "```\n",
    "Each line gives the password policy and then the password. The password policy indicates the lowest and highest number of times a given letter must appear for the password to be valid. For example, 1-3 a means that the password must contain a at least 1 time and at most 3 times.<br>\n",
    "\n",
    "In the above example, 2 passwords are valid. The middle password, cdefg, is not; it contains no instances of b, but needs at least 1. The first and third passwords are valid: they contain one a or nine c, both within the limits of their respective policies.<br>\n",
    "How many passwords are valid according to their policies?<br>\n",
    "</div>\n",
    "\n",
    "https://adventofcode.com/2020/day/2\n"
   ]
  },
  {
   "cell_type": "markdown",
   "metadata": {},
   "source": [
    "## Solution 1"
   ]
  },
  {
   "cell_type": "markdown",
   "metadata": {},
   "source": [
    "### Tip"
   ]
  },
  {
   "cell_type": "markdown",
   "metadata": {},
   "source": [
    "You can use the Counter algorithms, it's native to Python, you have nothing to install "
   ]
  },
  {
   "cell_type": "code",
   "execution_count": 31,
   "metadata": {
    "ExecuteTime": {
     "end_time": "2020-12-02T09:30:36.503234Z",
     "start_time": "2020-12-02T09:30:36.485263Z"
    }
   },
   "outputs": [],
   "source": [
    "from collections import Counter"
   ]
  },
  {
   "cell_type": "code",
   "execution_count": 32,
   "metadata": {
    "ExecuteTime": {
     "end_time": "2020-12-02T09:30:42.016597Z",
     "start_time": "2020-12-02T09:30:42.006624Z"
    }
   },
   "outputs": [
    {
     "data": {
      "text/plain": [
       "Counter({'a': 2, 'b': 2, 'e': 4, 'h': 2, 'u': 2, 'c': 1, 'f': 1})"
      ]
     },
     "execution_count": 32,
     "metadata": {},
     "output_type": "execute_result"
    }
   ],
   "source": [
    "Counter(\"aabebeheucuefh\")"
   ]
  },
  {
   "cell_type": "code",
   "execution_count": 33,
   "metadata": {
    "ExecuteTime": {
     "end_time": "2020-12-02T09:30:50.764455Z",
     "start_time": "2020-12-02T09:30:50.750493Z"
    }
   },
   "outputs": [
    {
     "data": {
      "text/plain": [
       "2"
      ]
     },
     "execution_count": 33,
     "metadata": {},
     "output_type": "execute_result"
    }
   ],
   "source": [
    "Counter(\"aabebeheucuefh\").get(\"a\",0)"
   ]
  },
  {
   "cell_type": "code",
   "execution_count": 34,
   "metadata": {
    "ExecuteTime": {
     "end_time": "2020-12-02T09:31:09.371031Z",
     "start_time": "2020-12-02T09:31:09.351084Z"
    }
   },
   "outputs": [
    {
     "data": {
      "text/plain": [
       "0"
      ]
     },
     "execution_count": 34,
     "metadata": {},
     "output_type": "execute_result"
    }
   ],
   "source": [
    "Counter(\"aabebeheucuefh\").get(\"z\",0)"
   ]
  },
  {
   "cell_type": "markdown",
   "metadata": {},
   "source": [
    "### Writing the solution functions"
   ]
  },
  {
   "cell_type": "code",
   "execution_count": 20,
   "metadata": {
    "ExecuteTime": {
     "end_time": "2020-12-02T09:28:23.746036Z",
     "start_time": "2020-12-02T09:28:23.738091Z"
    }
   },
   "outputs": [],
   "source": [
    "\n",
    "def split_policy_password(x):\n",
    "    \"\"\"Splits input strings with policy and password provided by the platform\n",
    "    Returns policy and password in a tuple\n",
    "    \"\"\"\n",
    "    policy,password = x.split(\":\")\n",
    "    return policy.strip(),password.strip()\n",
    "\n",
    "\n",
    "def is_valid(x):\n",
    "    \n",
    "    policy,password = split_policy_password(x)\n",
    "    \n",
    "    minmax,letter = policy.split(\" \")\n",
    "    min_value,max_value = minmax.split(\"-\")\n",
    "    min_value,max_value = int(min_value),int(max_value)\n",
    "    \n",
    "    count = Counter(password)\n",
    "    return  min_value <= count.get(letter,0) <= max_value\n",
    "    \n",
    "    \n",
    "def count_valids(text_input):\n",
    "    examples = text_input.strip().split(\"\\n\")\n",
    "    valids = [x for x in examples if is_valid(x)]\n",
    "    return len(valids)"
   ]
  },
  {
   "cell_type": "markdown",
   "metadata": {},
   "source": [
    "### Solving the example"
   ]
  },
  {
   "cell_type": "code",
   "execution_count": 26,
   "metadata": {
    "ExecuteTime": {
     "end_time": "2020-12-02T09:29:14.847069Z",
     "start_time": "2020-12-02T09:29:14.840088Z"
    }
   },
   "outputs": [],
   "source": [
    "text_input = \"\"\"\n",
    "1-3 a: abcde\n",
    "1-3 b: cdefg\n",
    "2-9 c: ccccccccc\n",
    "\"\"\"\n",
    "examples = text_input.strip().split(\"\\n\")"
   ]
  },
  {
   "cell_type": "code",
   "execution_count": 27,
   "metadata": {
    "ExecuteTime": {
     "end_time": "2020-12-02T09:29:17.904584Z",
     "start_time": "2020-12-02T09:29:17.896605Z"
    }
   },
   "outputs": [
    {
     "name": "stdout",
     "output_type": "stream",
     "text": [
      "1-3 a: abcde  -  True\n",
      "1-3 b: cdefg  -  False\n",
      "2-9 c: ccccccccc  -  True\n"
     ]
    }
   ],
   "source": [
    "for x in examples:\n",
    "    print(x,\" - \",is_valid(x))"
   ]
  },
  {
   "cell_type": "code",
   "execution_count": 28,
   "metadata": {
    "ExecuteTime": {
     "end_time": "2020-12-02T09:29:24.248731Z",
     "start_time": "2020-12-02T09:29:24.236753Z"
    }
   },
   "outputs": [
    {
     "data": {
      "text/plain": [
       "2"
      ]
     },
     "execution_count": 28,
     "metadata": {},
     "output_type": "execute_result"
    }
   ],
   "source": [
    "count_valids(text_input)"
   ]
  },
  {
   "cell_type": "markdown",
   "metadata": {},
   "source": [
    "### Solving the final solution"
   ]
  },
  {
   "cell_type": "code",
   "execution_count": 29,
   "metadata": {
    "ExecuteTime": {
     "end_time": "2020-12-02T09:29:26.770786Z",
     "start_time": "2020-12-02T09:29:26.751811Z"
    }
   },
   "outputs": [
    {
     "name": "stdout",
     "output_type": "stream",
     "text": [
      "3-11 z: zzzzzdzzzzlzz\n",
      "3-7 x: xjxbgpxxgtx\n",
      "3-4 v: vvmv\n",
      "3-5 t: tgkfq\n",
      "9-10 j: jjjjjjjjqjjjj\n",
      "5-7 r: rnhrhrr\n",
      "2-6 n: gnntnnsnnqjsbrn\n",
      "3-4 g: vrggfvxsgmggkgsm\n",
      "1-4 c: brccqr\n",
      "1-5 h: hhhzzvcdhhhhhhhh\n",
      "4-11 c: ncnqbzlkckc\n",
      "1-13 q: hqqqqqqqqqqqlq\n",
      "8-9 h: hhhhhhxxkh\n",
      "3-9 b: bbbbsfbbc\n",
      "3-8 k: zfqzkzgk\n",
      "3-9 k: wjkwhnkkfvxk\n",
      "3-11 v: vgkvvcjvvvv\n",
      "5-6 l: llllhr\n",
      "9-11 z: lzzzgzzmzzdzzz\n",
      "13-16 w: wwlwwwwlwwxwwfwf\n",
      "8-11 r: rrrrrrrrrrcrdrr\n",
      "1-9 v: mlvvvxnwrwvv\n",
      "4-6 z: mzzzzz\n",
      "3-4 s: svsj\n",
      "8-11 w: wwwwwwwjwwww\n",
      "10-13 r: drrrrzhmxfjdrtf\n"
     ]
    }
   ],
   "source": [
    "text_input = open(\"inputs/day2.txt\",\"r\").read()\n",
    "print(text_input[:500])"
   ]
  },
  {
   "cell_type": "code",
   "execution_count": 30,
   "metadata": {
    "ExecuteTime": {
     "end_time": "2020-12-02T09:29:31.124729Z",
     "start_time": "2020-12-02T09:29:31.112795Z"
    }
   },
   "outputs": [
    {
     "data": {
      "text/plain": [
       "550"
      ]
     },
     "execution_count": 30,
     "metadata": {},
     "output_type": "execute_result"
    }
   ],
   "source": [
    "count_valids(text_input)"
   ]
  }
 ],
 "metadata": {
  "kernelspec": {
   "display_name": "Python 3",
   "language": "python",
   "name": "python3"
  },
  "language_info": {
   "codemirror_mode": {
    "name": "ipython",
    "version": 3
   },
   "file_extension": ".py",
   "mimetype": "text/x-python",
   "name": "python",
   "nbconvert_exporter": "python",
   "pygments_lexer": "ipython3",
   "version": "3.7.4"
  },
  "toc": {
   "base_numbering": 1,
   "nav_menu": {},
   "number_sections": true,
   "sideBar": true,
   "skip_h1_title": false,
   "title_cell": "Table of Contents",
   "title_sidebar": "Contents",
   "toc_cell": false,
   "toc_position": {},
   "toc_section_display": true,
   "toc_window_display": false
  }
 },
 "nbformat": 4,
 "nbformat_minor": 2
}
