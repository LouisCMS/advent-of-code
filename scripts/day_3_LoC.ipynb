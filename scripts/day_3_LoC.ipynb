{
 "cells": [
  {
   "cell_type": "code",
   "execution_count": 2,
   "metadata": {},
   "outputs": [],
   "source": [
    "f=open('./Day3_data.txt','r')\n",
    "lines = f.readlines()"
   ]
  },
  {
   "cell_type": "code",
   "execution_count": 8,
   "metadata": {},
   "outputs": [],
   "source": [
    "def count_trees(right,down):\n",
    "    freespots=[]\n",
    "    trees=[]\n",
    "    i=0\n",
    "    j=0\n",
    "    while j<= len(lines)-1:\n",
    "        if i>30:\n",
    "            i=i-31\n",
    "        currentInput = lines[j].strip()\n",
    "        currentInput = currentInput.split()\n",
    "        symbol=currentInput[0][i]\n",
    "        if symbol==\".\":\n",
    "            freespots.append(symbol)\n",
    "        else :\n",
    "            trees.append(symbol)\n",
    "        i=i+right\n",
    "        j=j+down\n",
    "    return len(trees)"
   ]
  },
  {
   "cell_type": "code",
   "execution_count": 9,
   "metadata": {},
   "outputs": [
    {
     "output_type": "stream",
     "name": "stdout",
     "text": [
      "pb1 :207\npb2 :2655892800\n"
     ]
    }
   ],
   "source": [
    "# problem 1 : \n",
    "pb1=count_trees(3,1)\n",
    "print(\"pb1 :\"+str(pb1))\n",
    "\n",
    "# problem 2 : \n",
    "pb2=count_trees(1,1)*count_trees(3,1)*count_trees(5,1)*count_trees(7,1)*count_trees(1,2)\n",
    "print(\"pb2 :\"+str(pb2))"
   ]
  },
  {
   "cell_type": "code",
   "execution_count": null,
   "metadata": {},
   "outputs": [],
   "source": []
  }
 ],
 "metadata": {
  "kernelspec": {
   "display_name": "Python 3",
   "language": "python",
   "name": "python3"
  },
  "language_info": {
   "codemirror_mode": {
    "name": "ipython",
    "version": 3
   },
   "file_extension": ".py",
   "mimetype": "text/x-python",
   "name": "python",
   "nbconvert_exporter": "python",
   "pygments_lexer": "ipython3",
   "version": "3.7.1-final"
  },
  "toc": {
   "base_numbering": 1,
   "nav_menu": {},
   "number_sections": true,
   "sideBar": true,
   "skip_h1_title": false,
   "title_cell": "Table of Contents",
   "title_sidebar": "Contents",
   "toc_cell": false,
   "toc_position": {},
   "toc_section_display": true,
   "toc_window_display": false
  },
  "varInspector": {
   "cols": {
    "lenName": 16,
    "lenType": 16,
    "lenVar": 40
   },
   "kernels_config": {
    "python": {
     "delete_cmd_postfix": "",
     "delete_cmd_prefix": "del ",
     "library": "var_list.py",
     "varRefreshCmd": "print(var_dic_list())"
    },
    "r": {
     "delete_cmd_postfix": ") ",
     "delete_cmd_prefix": "rm(",
     "library": "var_list.r",
     "varRefreshCmd": "cat(var_dic_list()) "
    }
   },
   "types_to_exclude": [
    "module",
    "function",
    "builtin_function_or_method",
    "instance",
    "_Feature"
   ],
   "window_display": false
  }
 },
 "nbformat": 4,
 "nbformat_minor": 4
}